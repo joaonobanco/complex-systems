{
 "cells": [
  {
   "cell_type": "markdown",
   "metadata": {},
   "source": [
    "# Import"
   ]
  },
  {
   "cell_type": "code",
   "execution_count": null,
   "metadata": {},
   "outputs": [],
   "source": [
    "from EloScoring import EloScoring\n",
    "from WinScoring import WinScoring\n",
    "from Plotting import Heatmap, ChordDiagram, GGraphPlot, GGraphPlot2, MeanPlot, Parallel, Spaghetti, StackedPercent, LollipopPlot, RegPlot\n",
    "from EvolvingTournament import EvolvingTournament\n",
    "from Evolutions import *\n",
    "\n",
    "import matplotlib.pyplot as plt\n",
    "import matplotlib.patches as mpatches\n",
    "import matplotlib\n",
    "from mpl_toolkits.axes_grid1 import make_axes_locatable\n",
    "import random\n",
    "from elo import rate_1vs1, setup, adjust_1vs1\n",
    "import itertools as it\n",
    "\n",
    "import networkx as nx\n",
    "import axelrod as axl\n",
    "from axelrod.strategy_transformers import *\n",
    "from axelrod.graph import Graph\n",
    "import csv\n",
    "import pandas as pd\n",
    "from pandas.plotting import parallel_coordinates\n",
    "import seaborn as sns\n",
    "import numpy as np\n",
    "import colorlover as cl\n",
    "import scipy as sci\n",
    "from datetime import date as dtdate"
   ]
  },
  {
   "cell_type": "markdown",
   "metadata": {},
   "source": [
    "# Preliminary Tournament"
   ]
  },
  {
   "cell_type": "markdown",
   "metadata": {},
   "source": [
    "## Setup"
   ]
  },
  {
   "cell_type": "code",
   "execution_count": null,
   "metadata": {},
   "outputs": [],
   "source": [
    "## Setup the game\n",
    "strategies = (axl.Adaptive(), axl.Cooperator(), axl.Willing(), axl.Bully(), axl.FirmButFair(), axl.Grudger(), axl.Handshake(), axl.HardGoByMajority(), axl.Desperate(), axl.WinStayLoseShift(), axl.Random(), axl.GoByMajority(), axl.TitForTat(), axl.TitFor2Tats(), axl.TwoTitsForTat())\n",
    "print(\"#Strategies =\",len(strategies))\n",
    "\n",
    "## Prisoners Dilemma Payoffs\n",
    "# default payoffs\n",
    "pdilemma = axl.game.Game()\n",
    "print(pdilemma)"
   ]
  },
  {
   "cell_type": "markdown",
   "metadata": {},
   "source": [
    "### Tournament"
   ]
  },
  {
   "cell_type": "code",
   "execution_count": null,
   "metadata": {},
   "outputs": [],
   "source": [
    "## Set seeding\n",
    "axl.seed(0)\n",
    "\n",
    "## Define tournament parameters\n",
    "turns = 50\n",
    "repetitions= 10\n",
    "\n",
    "## Run the tournament\n",
    "prelimTour = axl.Tournament(strategies, game=pdilemma, turns=turns, repetitions=repetitions)\n",
    "prelimResults = prelimTour.play(processes=1, filename=\"preliminary_tournament.csv\")\n",
    "\n",
    "## Calculate Elo based on win results. Initial seeding rate of 1200 for all\n",
    "prelimElo = EloScoring(strategies, \"preliminary_tournament.csv\", repetitions=repetitions, init_rate=1200.0, index_by_strat=True)\n",
    "prelimWin = WinScoring(strategies, \"preliminary_tournament.csv\", repetitions=repetitions, index_by_strat=True)\n",
    "\n",
    "## Axelrod library plots.\n",
    "prelimPlots = axl.Plot(prelimResults)"
   ]
  },
  {
   "cell_type": "markdown",
   "metadata": {},
   "source": [
    "#### Plots and Tables"
   ]
  },
  {
   "cell_type": "code",
   "execution_count": null,
   "metadata": {},
   "outputs": [],
   "source": [
    "## Show boxplot with payoffs\n",
    "_, ax = plt.subplots()\n",
    "\n",
    "ax.set_ylabel('Payoff', fontsize=15)\n",
    "ax.set_xlabel('Strategy', fontsize=15)\n",
    "\n",
    "p = prelimPlots.boxplot(ax=ax)\n",
    "#p.show()\n",
    "\n",
    "plt.savefig(\"prelim_boxplot.pdf\", format=\"PDF\", bbox_inches='tight', dpi=300)"
   ]
  },
  {
   "cell_type": "code",
   "execution_count": null,
   "metadata": {},
   "outputs": [],
   "source": [
    "## Heatmap of the payoff matrix\n",
    "Heatmap(strategies, prelimResults.payoff_matrix, dist_name=\"prelim_payoff_matrix\")"
   ]
  },
  {
   "cell_type": "code",
   "execution_count": null,
   "metadata": {},
   "outputs": [],
   "source": [
    "## Heatmap of the payoff matrix given by Elo score\n",
    "Heatmap(strategies, prelimElo.payoff_matrix, dist_name=\"prelim_payoff_elo\")"
   ]
  },
  {
   "cell_type": "code",
   "execution_count": null,
   "metadata": {},
   "outputs": [],
   "source": [
    "## Heatmap of the normalised cooperation rate\n",
    "Heatmap(strategies, prelimResults.normalised_cooperation, dist_name=\"prelim_cooperation\")"
   ]
  },
  {
   "cell_type": "code",
   "execution_count": null,
   "metadata": {},
   "outputs": [],
   "source": [
    "## Table of the cooperation rating per strategy\n",
    "prelimCoop = pd.Series(prelimResults.cooperating_rating, index=strategies)\n",
    "\n",
    "print(prelimCoop.sort_values(ascending=False))\n",
    "print(\"Mean:\", prelimCoop.mean())\n",
    "print(\"Median:\", prelimCoop.median())"
   ]
  },
  {
   "cell_type": "code",
   "execution_count": null,
   "metadata": {},
   "outputs": [],
   "source": [
    "## Comparisson of Rankings\n",
    "ranks = np.arange(1,len(strategies)+1,1)\n",
    "\n",
    "# Table of ranking by PD score\n",
    "rankedAxel = pd.Series(ranks, index=prelimResults.ranked_names, name=\"Axel Rank\")\n",
    "#print(rankedAxel)\n",
    "\n",
    "# Table of ranking by Elo rate\n",
    "rankedElo = pd.Series(ranks, index=prelimElo.ranked_names, name=\"Elo Rank\")\n",
    "#print(rankedElo)\n",
    "\n",
    "rankedAll = pd.concat([rankedAxel, rankedElo], axis=1).sort_values(by=\"Axel Rank\")\n",
    "rankedAll['Delta'] = rankedAll.diff(axis=1).iloc[::,-1].mul(-1)\n",
    "print(rankedAll)\n",
    "print(\"Mean:\", rankedAll['Delta'].abs().mean())\n",
    "print(\"Median:\", rankedAll['Delta'].abs().median())"
   ]
  },
  {
   "cell_type": "code",
   "execution_count": null,
   "metadata": {},
   "outputs": [],
   "source": [
    "## Linear Regression\n",
    "xx = rankedAll['Axel Rank']\n",
    "xx_name = \"Axel Rank\"\n",
    "\n",
    "yy = rankedAll['Delta']\n",
    "yy_name = \"\\u0394\" #Delta\n",
    "\n",
    "RegPlot(xx, yy, xx_name, yy_name, dist_name=\"Rank_vs_Delta\")"
   ]
  },
  {
   "cell_type": "code",
   "execution_count": null,
   "metadata": {},
   "outputs": [],
   "source": [
    "# Plot\n",
    "Parallel(rankedAxel, rankedElo, \"Axel Rank\", \"Elo Rank\", dist_name=\"Axel_vs_Elo\")"
   ]
  },
  {
   "cell_type": "code",
   "execution_count": null,
   "metadata": {},
   "outputs": [],
   "source": [
    "## Heatmap of the Win matrix\n",
    "Heatmap(strategies, prelimWin.win_matrix, dist_name=\"prelim_winmatrix\")"
   ]
  },
  {
   "cell_type": "code",
   "execution_count": null,
   "metadata": {},
   "outputs": [],
   "source": [
    "## Chord diagram\n",
    "strat = ('Adaptive', 'Cooperator', 'Willing', 'Bully', 'FirmButFair', 'Grudger', 'HS', 'HGBMajority', 'Desperate', 'WSLS', 'Random', 'GBMajority', 'TFT', 'TF2T', '2TFT')\n",
    "X = np.array(prelimResults.payoff_matrix).T\n",
    "\n",
    "ChordDiagram(X, strat, dist_name=\"prelim_axel\")"
   ]
  },
  {
   "cell_type": "markdown",
   "metadata": {},
   "source": [
    "### Moran"
   ]
  },
  {
   "cell_type": "code",
   "execution_count": null,
   "metadata": {},
   "outputs": [],
   "source": [
    "## Generate Multiple Moran Processes\n",
    "moranCounter = pd.Series(np.repeat(0,len(strategies)), index=[str(s) for s in strategies])\n",
    "for i in np.arange(200):\n",
    "    moranSeed = np.random.randint(1000000)\n",
    "    axl.seed(moranSeed)\n",
    "    prelimMoran = axl.MoranProcess(strategies, game=pdilemma, turns=50)\n",
    "    moranResults = prelimMoran.play()\n",
    "    #print(\"-Step:\", i, \"-Seed:\", moranSeed, \"-Winner:\", prelimMoran.winning_strategy_name)\n",
    "    moranCounter.loc[prelimMoran.winning_strategy_name] += 1"
   ]
  },
  {
   "cell_type": "code",
   "execution_count": null,
   "metadata": {},
   "outputs": [],
   "source": [
    "## Moran rankin by wins\n",
    "moranCounter.sort_values(ascending=False)"
   ]
  },
  {
   "cell_type": "markdown",
   "metadata": {},
   "source": [
    "# Evolving Tournament"
   ]
  },
  {
   "cell_type": "markdown",
   "metadata": {},
   "source": [
    "## Setup"
   ]
  },
  {
   "cell_type": "code",
   "execution_count": null,
   "metadata": {},
   "outputs": [],
   "source": [
    "## Setup the game\n",
    "strategies = (axl.Adaptive(), axl.Cooperator(), axl.Willing(), axl.Bully(), axl.FirmButFair(), axl.Grudger(), axl.Handshake(), axl.HardGoByMajority(), axl.Desperate(), axl.WinStayLoseShift(), axl.Random(), axl.GoByMajority(), axl.TitForTat(), axl.TitFor2Tats(), axl.TwoTitsForTat())\n",
    "## Alternative\n",
    "#strategies = (axl.Cooperator(), axl.Defector())\n",
    "print(\"#Strategies =\",len(strategies))\n",
    "\n",
    "## Strategies multiples\n",
    "multi = 35\n",
    "\n",
    "## Prisoners Dilemma Payoffs\n",
    "pdilemma = axl.game.Game()\n",
    "print(pdilemma)\n",
    "\n",
    "## Turns and Reps\n",
    "Turn = 50\n",
    "Reps = 10\n",
    "\n",
    "## Evolution stages\n",
    "stages = 20\n",
    "\n",
    "## Number of networks\n",
    "nets = 10\n",
    "\n",
    "## Generate Seeds\n",
    "# Either, for random seeds\n",
    "#graphSeeds = np.random.randint(1000000, size=nets)\n",
    "#axelSeeds = np.random.randint(1000000, size=nets)\n",
    "# Or, for predetermined seeds\n",
    "graphSeeds = np.array([311241, 582907, 392722,  34510, 994611, 479412, 159459, 537154, 161788, 742156])\n",
    "axelSeeds = np.array([ 99816,  52652, 401970, 218664, 928531, 261145, 313441, 155399, 696413,  59651])\n",
    "\n",
    "print(\"Graph Seeds:\", graphSeeds)\n",
    "print(\"Axel Seeds:\", axelSeeds)\n",
    "\n",
    "##\n",
    "date = str(dtdate.today())\n",
    "print(date)"
   ]
  },
  {
   "cell_type": "markdown",
   "metadata": {},
   "source": [
    "### Tournament"
   ]
  },
  {
   "cell_type": "code",
   "execution_count": null,
   "metadata": {},
   "outputs": [],
   "source": [
    "## Tournament\n",
    "tourAxelCounter = pd.DataFrame({'1': np.repeat(0,stages+1)}, index=[str(s) for s in np.arange(stages+1)])\n",
    "tourAxelPopCounter = pd.DataFrame(np.repeat(0, len(strategies)*(stages+1)).reshape(len(strategies), stages+1), index=[str(s) for s in strategies], columns=[str(s) for s in np.arange(0,stages+1,1)])\n",
    "\n",
    "# Network info\n",
    "networksInfo = pd.DataFrame({'GraphSeed': np.repeat(0,nets), 'AxelSeed': np.repeat(0,nets), \"<k>\": np.repeat(0,nets)}, index=[str(n) for n in np.arange(1,nets+1,1)])\n",
    "\n",
    "# Rates and Probability\n",
    "# MANUALLY CHANGE VALUES\n",
    "rate = \"Elo\" # Values: \"Axel\", or \"Elo\"\n",
    "prob = \"Det\" # Values: \"Prob\", \"Stoch\", or \"Det\"\n",
    "\n",
    "# Run\n",
    "for i in np.arange(1,nets+1,1):\n",
    "    print(\"Network: \" + str(i))\n",
    "    # Seeding\n",
    "    graphSeed = int(graphSeeds[i-1])\n",
    "    axelSeed = int(axelSeeds[i-1])\n",
    "    \n",
    "    # Setup the tournament\n",
    "    tourAxel = EvolvingTournament(strategies, multiples=multi, evolution_stages=stages, seed=graphSeed)\n",
    "    # Save the network info\n",
    "    networksInfo.loc[str(i)] = np.array([graphSeed, axelSeed, tourAxel.avg_k])\n",
    "    \n",
    "    # Run\n",
    "    tourAxel.play_Tournament(rate_type=rate, evolution_type=prob, game=pdilemma, turns=Turn, repetitions=Reps, elo_params=[10,200], axel_seed=axelSeed)\n",
    "    # Save the tournament info\n",
    "    tourAxelCounter[str(i)] = tourAxel.data_Cooperation.matrix.mean()\n",
    "    tourAxelPopCounter = tourAxelPopCounter.add(tourAxel.data_Population.matrix)"
   ]
  },
  {
   "cell_type": "code",
   "execution_count": null,
   "metadata": {},
   "outputs": [],
   "source": [
    "#networksInfo"
   ]
  },
  {
   "cell_type": "markdown",
   "metadata": {},
   "source": [
    "#### Plots"
   ]
  },
  {
   "cell_type": "code",
   "execution_count": null,
   "metadata": {},
   "outputs": [],
   "source": [
    "## Cooperation Rates\n",
    "Spaghetti(tourAxelCounter, dist_name=rate + \"_\" + prob + \"_\" + str(nets) + \"nets_\" + date)"
   ]
  },
  {
   "cell_type": "code",
   "execution_count": null,
   "metadata": {},
   "outputs": [],
   "source": [
    "#tourAxelPopCounter"
   ]
  },
  {
   "cell_type": "code",
   "execution_count": null,
   "metadata": {},
   "outputs": [],
   "source": [
    "## Save the final population for later comparison\n",
    "tourAxelPopCounter.iloc[:,-1].divide(len(strategies)*multi*nets).to_csv(\"finalPopulation_\" + rate + \"_\" + prob + \"_\" + str(nets) + \"nets_\" + date + \".csv\", header=False)"
   ]
  },
  {
   "cell_type": "code",
   "execution_count": null,
   "metadata": {},
   "outputs": [],
   "source": [
    "## Fraction Population Plot\n",
    "total_pop = len(strategies)*multi*nets\n",
    "\n",
    "StackedPercent(tourAxelPopCounter, total_pop, dist_name=rate + \"_\" + prob + \"_\" + str(nets) + \"nets_\" + date)"
   ]
  },
  {
   "cell_type": "markdown",
   "metadata": {},
   "source": [
    "### Network Chart"
   ]
  },
  {
   "cell_type": "code",
   "execution_count": null,
   "metadata": {},
   "outputs": [],
   "source": [
    "## Network chart\n",
    "nwchart = EvolvingTournament(strategies, multiples=multi, evolution_stages=stages, seed=0)\n",
    "GGraphPlot(nwchart.graph, nwchart.data_Strategies.get_column('0').to_numpy(), colors = nwchart.colors_Colorized)"
   ]
  },
  {
   "cell_type": "markdown",
   "metadata": {},
   "source": [
    "# Comparing"
   ]
  },
  {
   "cell_type": "code",
   "execution_count": null,
   "metadata": {},
   "outputs": [],
   "source": [
    "## LollipopPlot\n",
    "\n",
    "# Preliminary Tournament\n",
    "print(rankedAxel)\n",
    "\n",
    "# Evolving Tournament\n",
    "right_file = \"finalPopulation_Axel_Det_10nets.csv\"\n",
    "right_name = \"C\"\n",
    "\n",
    "mid_file = \"finalPopulation_Axel_Stoch_10nets.csv\"\n",
    "mid_name = \"B\"\n",
    "\n",
    "left_file = \"finalPopulation_Axel_Prob_10nets.csv\"\n",
    "left_name = \"A\"\n",
    "\n",
    "sns.set_style(\"darkgrid\")\n",
    "LollipopPlot(left_file, mid_file, right_file, left_name, mid_name, right_name, rankedAxel, dist_name=\"Axel_Det_vs_Axel_Prob_vs_Axel_Stoch\")"
   ]
  },
  {
   "cell_type": "code",
   "execution_count": null,
   "metadata": {},
   "outputs": [],
   "source": []
  }
 ],
 "metadata": {
  "kernelspec": {
   "display_name": "Python 3",
   "language": "python",
   "name": "python3"
  },
  "language_info": {
   "codemirror_mode": {
    "name": "ipython",
    "version": 3
   },
   "file_extension": ".py",
   "mimetype": "text/x-python",
   "name": "python",
   "nbconvert_exporter": "python",
   "pygments_lexer": "ipython3",
   "version": "3.7.3"
  }
 },
 "nbformat": 4,
 "nbformat_minor": 2
}
